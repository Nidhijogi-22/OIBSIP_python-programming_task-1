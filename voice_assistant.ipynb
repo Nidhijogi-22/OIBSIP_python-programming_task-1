{
 "cells": [
  {
   "cell_type": "code",
   "execution_count": 4,
   "id": "28d9bbb0-9be4-4520-9245-9a35d6363a02",
   "metadata": {},
   "outputs": [
    {
     "name": "stdout",
     "output_type": "stream",
     "text": [
      "Assistant: Hello! I'm your assistant. How can I help you?\n",
      "Listening...\n",
      "You said: hello\n",
      "Assistant: Hi there! How can I assist you today?\n",
      "Listening...\n",
      "Assistant: Sorry, I didn't catch that.\n",
      "Listening...\n",
      "You said: date\n",
      "Assistant: Today's date is Thursday, July 24, 2025\n",
      "Listening...\n",
      "You said: time\n",
      "Assistant: The time is 11:32 PM\n",
      "Listening...\n",
      "You said: exit\n",
      "Assistant: Goodbye!\n"
     ]
    }
   ],
   "source": [
    "import speech_recognition as sr\n",
    "import pyttsx3\n",
    "import datetime\n",
    "import pywhatkit\n",
    "\n",
    "# Initialize the speech engine\n",
    "engine = pyttsx3.init()\n",
    "\n",
    "def talk(text):\n",
    "    print(f\"Assistant: {text}\")\n",
    "    engine.say(text)\n",
    "    engine.runAndWait()\n",
    "\n",
    "def listen():\n",
    "    listener = sr.Recognizer()\n",
    "    with sr.Microphone() as source:\n",
    "        print(\"Listening...\")\n",
    "        listener.adjust_for_ambient_noise(source, duration=1)\n",
    "        audio = listener.listen(source)\n",
    "    try:\n",
    "        command = listener.recognize_google(audio)\n",
    "        command = command.lower()\n",
    "        print(f\"You said: {command}\")\n",
    "        return command\n",
    "    except sr.UnknownValueError:\n",
    "        talk(\"Sorry, I didn't catch that.\")\n",
    "        return \"\"\n",
    "    except sr.RequestError:\n",
    "        talk(\"Network error.\")\n",
    "        return \"\"\n",
    "\n",
    "def run_assistant():\n",
    "    talk(\"Hello! I'm your assistant. How can I help you?\")\n",
    "    while True:\n",
    "        command = listen()\n",
    "\n",
    "        if not command:\n",
    "            continue\n",
    "\n",
    "        if \"hello\" in command:\n",
    "            talk(\"Hi there! How can I assist you today?\")\n",
    "        elif \"time\" in command:\n",
    "            time = datetime.datetime.now().strftime('%I:%M %p')\n",
    "            talk(f\"The time is {time}\")\n",
    "        elif \"date\" in command:\n",
    "            date = datetime.datetime.now().strftime('%A, %B %d, %Y')\n",
    "            talk(f\"Today's date is {date}\")\n",
    "        elif \"search\" in command:\n",
    "            topic = command.replace(\"search\", \"\").strip()\n",
    "            if topic:\n",
    "                talk(f\"Searching the web for {topic}\")\n",
    "                pywhatkit.search(topic)\n",
    "            else:\n",
    "                talk(\"Please tell me what to search for.\")\n",
    "        elif \"exit\" in command or \"quit\" in command:\n",
    "            talk(\"Goodbye!\")\n",
    "            break\n",
    "        else:\n",
    "            talk(\"Sorry, I can't perform that task yet.\")\n",
    "\n",
    "# Run the assistant\n",
    "run_assistant()"
   ]
  },
  {
   "cell_type": "code",
   "execution_count": null,
   "id": "69e49fc2-33ed-4dfb-a53d-b83fb785e097",
   "metadata": {},
   "outputs": [],
   "source": []
  },
  {
   "cell_type": "code",
   "execution_count": null,
   "id": "c06b6e89-5e4f-4009-abb8-5724817a988f",
   "metadata": {},
   "outputs": [],
   "source": []
  },
  {
   "cell_type": "code",
   "execution_count": null,
   "id": "0ff9b145-d140-4a80-82fe-a3a549ecd266",
   "metadata": {},
   "outputs": [],
   "source": []
  },
  {
   "cell_type": "code",
   "execution_count": null,
   "id": "fddaf3c0-eb61-4f8e-99a9-834786e84cd2",
   "metadata": {},
   "outputs": [],
   "source": []
  },
  {
   "cell_type": "code",
   "execution_count": null,
   "id": "fafce8a9-217e-4a96-b263-f549ad10517f",
   "metadata": {},
   "outputs": [],
   "source": []
  },
  {
   "cell_type": "code",
   "execution_count": 3,
   "id": "c80739c2-8331-43d8-bd41-42308584f758",
   "metadata": {},
   "outputs": [
    {
     "name": "stdout",
     "output_type": "stream",
     "text": [
      "Collecting SpeechRecognition\n",
      "  Downloading speechrecognition-3.14.3-py3-none-any.whl.metadata (30 kB)\n",
      "Requirement already satisfied: typing-extensions in c:\\users\\nidhi\\miniconda3\\lib\\site-packages (from SpeechRecognition) (4.12.2)\n",
      "Collecting standard-aifc (from SpeechRecognition)\n",
      "  Using cached standard_aifc-3.13.0-py3-none-any.whl.metadata (969 bytes)\n",
      "Collecting audioop-lts (from SpeechRecognition)\n",
      "  Using cached audioop_lts-0.2.1-cp313-abi3-win_amd64.whl.metadata (1.7 kB)\n",
      "Collecting standard-chunk (from standard-aifc->SpeechRecognition)\n",
      "  Using cached standard_chunk-3.13.0-py3-none-any.whl.metadata (860 bytes)\n",
      "Downloading speechrecognition-3.14.3-py3-none-any.whl (32.9 MB)\n",
      "   ---------------------------------------- 0.0/32.9 MB ? eta -:--:--\n",
      "    --------------------------------------- 0.5/32.9 MB 7.5 MB/s eta 0:00:05\n",
      "   ---- ----------------------------------- 3.7/32.9 MB 13.4 MB/s eta 0:00:03\n",
      "   ------- -------------------------------- 6.6/32.9 MB 13.3 MB/s eta 0:00:02\n",
      "   ---------- ----------------------------- 8.7/32.9 MB 12.8 MB/s eta 0:00:02\n",
      "   ------------- -------------------------- 11.0/32.9 MB 11.9 MB/s eta 0:00:02\n",
      "   --------------- ------------------------ 12.8/32.9 MB 11.4 MB/s eta 0:00:02\n",
      "   ------------------ --------------------- 14.9/32.9 MB 11.2 MB/s eta 0:00:02\n",
      "   -------------------- ------------------- 16.8/32.9 MB 11.1 MB/s eta 0:00:02\n",
      "   ---------------------- ----------------- 18.4/32.9 MB 10.2 MB/s eta 0:00:02\n",
      "   ----------------------- ---------------- 19.1/32.9 MB 9.7 MB/s eta 0:00:02\n",
      "   ------------------------ --------------- 20.2/32.9 MB 9.2 MB/s eta 0:00:02\n",
      "   ------------------------- -------------- 21.0/32.9 MB 8.8 MB/s eta 0:00:02\n",
      "   -------------------------- ------------- 21.8/32.9 MB 8.4 MB/s eta 0:00:02\n",
      "   --------------------------- ------------ 22.5/32.9 MB 8.0 MB/s eta 0:00:02\n",
      "   ---------------------------- ----------- 23.3/32.9 MB 7.7 MB/s eta 0:00:02\n",
      "   ----------------------------- ---------- 24.4/32.9 MB 7.5 MB/s eta 0:00:02\n",
      "   ------------------------------ --------- 25.4/32.9 MB 7.3 MB/s eta 0:00:02\n",
      "   -------------------------------- ------- 26.5/32.9 MB 7.1 MB/s eta 0:00:01\n",
      "   --------------------------------- ------ 27.3/32.9 MB 7.0 MB/s eta 0:00:01\n",
      "   ---------------------------------- ----- 28.6/32.9 MB 6.9 MB/s eta 0:00:01\n",
      "   ------------------------------------ --- 29.9/32.9 MB 6.9 MB/s eta 0:00:01\n",
      "   ------------------------------------- -- 31.2/32.9 MB 6.9 MB/s eta 0:00:01\n",
      "   ---------------------------------------  32.5/32.9 MB 6.8 MB/s eta 0:00:01\n",
      "   ---------------------------------------  32.8/32.9 MB 6.8 MB/s eta 0:00:01\n",
      "   ---------------------------------------- 32.9/32.9 MB 6.5 MB/s eta 0:00:00\n",
      "Using cached audioop_lts-0.2.1-cp313-abi3-win_amd64.whl (30 kB)\n",
      "Using cached standard_aifc-3.13.0-py3-none-any.whl (10 kB)\n",
      "Using cached standard_chunk-3.13.0-py3-none-any.whl (4.9 kB)\n",
      "Installing collected packages: standard-chunk, audioop-lts, standard-aifc, SpeechRecognition\n",
      "Successfully installed SpeechRecognition-3.14.3 audioop-lts-0.2.1 standard-aifc-3.13.0 standard-chunk-3.13.0\n"
     ]
    }
   ],
   "source": [
    "!pip install SpeechRecognition"
   ]
  },
  {
   "cell_type": "code",
   "execution_count": 5,
   "id": "eb83e78d-1cd2-41c0-8704-5e3e75f25277",
   "metadata": {},
   "outputs": [
    {
     "name": "stdout",
     "output_type": "stream",
     "text": [
      "Collecting pyttsx3\n",
      "  Using cached pyttsx3-2.99-py3-none-any.whl.metadata (6.2 kB)\n",
      "Collecting comtypes (from pyttsx3)\n",
      "  Using cached comtypes-1.4.11-py3-none-any.whl.metadata (7.2 kB)\n",
      "Collecting pypiwin32 (from pyttsx3)\n",
      "  Using cached pypiwin32-223-py3-none-any.whl.metadata (236 bytes)\n",
      "Requirement already satisfied: pywin32 in c:\\users\\nidhi\\miniconda3\\lib\\site-packages (from pyttsx3) (310)\n",
      "Using cached pyttsx3-2.99-py3-none-any.whl (32 kB)\n",
      "Using cached comtypes-1.4.11-py3-none-any.whl (246 kB)\n",
      "Using cached pypiwin32-223-py3-none-any.whl (1.7 kB)\n",
      "Installing collected packages: pypiwin32, comtypes, pyttsx3\n",
      "Successfully installed comtypes-1.4.11 pypiwin32-223 pyttsx3-2.99\n",
      "Note: you may need to restart the kernel to use updated packages.\n"
     ]
    }
   ],
   "source": [
    "pip install pyttsx3"
   ]
  },
  {
   "cell_type": "code",
   "execution_count": 6,
   "id": "8f814923-5da3-4a73-9f56-e5ea99b82c6f",
   "metadata": {},
   "outputs": [
    {
     "name": "stdout",
     "output_type": "stream",
     "text": [
      "Collecting pywhatkit\n",
      "  Using cached pywhatkit-5.4-py3-none-any.whl.metadata (5.5 kB)\n",
      "Requirement already satisfied: Pillow in c:\\users\\nidhi\\miniconda3\\lib\\site-packages (from pywhatkit) (11.2.1)\n",
      "Collecting pyautogui (from pywhatkit)\n",
      "  Using cached pyautogui-0.9.54-py3-none-any.whl\n",
      "Requirement already satisfied: requests in c:\\users\\nidhi\\miniconda3\\lib\\site-packages (from pywhatkit) (2.32.3)\n",
      "Collecting wikipedia (from pywhatkit)\n",
      "  Using cached wikipedia-1.4.0-py3-none-any.whl\n",
      "Collecting Flask (from pywhatkit)\n",
      "  Downloading flask-3.1.1-py3-none-any.whl.metadata (3.0 kB)\n",
      "Collecting blinker>=1.9.0 (from Flask->pywhatkit)\n",
      "  Using cached blinker-1.9.0-py3-none-any.whl.metadata (1.6 kB)\n",
      "Collecting click>=8.1.3 (from Flask->pywhatkit)\n",
      "  Using cached click-8.2.1-py3-none-any.whl.metadata (2.5 kB)\n",
      "Collecting itsdangerous>=2.2.0 (from Flask->pywhatkit)\n",
      "  Using cached itsdangerous-2.2.0-py3-none-any.whl.metadata (1.9 kB)\n",
      "Requirement already satisfied: jinja2>=3.1.2 in c:\\users\\nidhi\\miniconda3\\lib\\site-packages (from Flask->pywhatkit) (3.1.6)\n",
      "Requirement already satisfied: markupsafe>=2.1.1 in c:\\users\\nidhi\\miniconda3\\lib\\site-packages (from Flask->pywhatkit) (3.0.2)\n",
      "Collecting werkzeug>=3.1.0 (from Flask->pywhatkit)\n",
      "  Using cached werkzeug-3.1.3-py3-none-any.whl.metadata (3.7 kB)\n",
      "Collecting pymsgbox (from pyautogui->pywhatkit)\n",
      "  Using cached pymsgbox-1.0.9-py3-none-any.whl\n",
      "Collecting pytweening>=1.0.4 (from pyautogui->pywhatkit)\n",
      "  Using cached pytweening-1.2.0-py3-none-any.whl\n",
      "Collecting pyscreeze>=0.1.21 (from pyautogui->pywhatkit)\n",
      "  Using cached pyscreeze-1.0.1-py3-none-any.whl\n",
      "Collecting pygetwindow>=0.0.5 (from pyautogui->pywhatkit)\n",
      "  Using cached PyGetWindow-0.0.9-py3-none-any.whl\n",
      "Collecting mouseinfo (from pyautogui->pywhatkit)\n",
      "  Using cached MouseInfo-0.1.3-py3-none-any.whl\n",
      "Requirement already satisfied: charset-normalizer<4,>=2 in c:\\users\\nidhi\\miniconda3\\lib\\site-packages (from requests->pywhatkit) (3.3.2)\n",
      "Requirement already satisfied: idna<4,>=2.5 in c:\\users\\nidhi\\miniconda3\\lib\\site-packages (from requests->pywhatkit) (3.7)\n",
      "Requirement already satisfied: urllib3<3,>=1.21.1 in c:\\users\\nidhi\\miniconda3\\lib\\site-packages (from requests->pywhatkit) (2.3.0)\n",
      "Requirement already satisfied: certifi>=2017.4.17 in c:\\users\\nidhi\\miniconda3\\lib\\site-packages (from requests->pywhatkit) (2025.7.14)\n",
      "Requirement already satisfied: beautifulsoup4 in c:\\users\\nidhi\\miniconda3\\lib\\site-packages (from wikipedia->pywhatkit) (4.13.4)\n",
      "Requirement already satisfied: colorama in c:\\users\\nidhi\\miniconda3\\lib\\site-packages (from click>=8.1.3->Flask->pywhatkit) (0.4.6)\n",
      "Collecting pyrect (from pygetwindow>=0.0.5->pyautogui->pywhatkit)\n",
      "  Using cached PyRect-0.2.0-py2.py3-none-any.whl\n",
      "Requirement already satisfied: soupsieve>1.2 in c:\\users\\nidhi\\miniconda3\\lib\\site-packages (from beautifulsoup4->wikipedia->pywhatkit) (2.7)\n",
      "Requirement already satisfied: typing-extensions>=4.0.0 in c:\\users\\nidhi\\miniconda3\\lib\\site-packages (from beautifulsoup4->wikipedia->pywhatkit) (4.12.2)\n",
      "Collecting pyperclip (from mouseinfo->pyautogui->pywhatkit)\n",
      "  Using cached pyperclip-1.9.0-py3-none-any.whl\n",
      "Using cached pywhatkit-5.4-py3-none-any.whl (15 kB)\n",
      "Downloading flask-3.1.1-py3-none-any.whl (103 kB)\n",
      "Using cached blinker-1.9.0-py3-none-any.whl (8.5 kB)\n",
      "Using cached click-8.2.1-py3-none-any.whl (102 kB)\n",
      "Using cached itsdangerous-2.2.0-py3-none-any.whl (16 kB)\n",
      "Using cached werkzeug-3.1.3-py3-none-any.whl (224 kB)\n",
      "Installing collected packages: pytweening, pyscreeze, pyrect, pyperclip, pymsgbox, werkzeug, pygetwindow, mouseinfo, itsdangerous, click, blinker, wikipedia, pyautogui, Flask, pywhatkit\n",
      "Successfully installed Flask-3.1.1 blinker-1.9.0 click-8.2.1 itsdangerous-2.2.0 mouseinfo-0.1.3 pyautogui-0.9.54 pygetwindow-0.0.9 pymsgbox-1.0.9 pyperclip-1.9.0 pyrect-0.2.0 pyscreeze-1.0.1 pytweening-1.2.0 pywhatkit-5.4 werkzeug-3.1.3 wikipedia-1.4.0\n"
     ]
    }
   ],
   "source": [
    "!pip install pywhatkit"
   ]
  },
  {
   "cell_type": "code",
   "execution_count": 2,
   "id": "a261efe9-e979-4ac6-a79c-eec6ad11954c",
   "metadata": {},
   "outputs": [
    {
     "name": "stdout",
     "output_type": "stream",
     "text": [
      "Collecting PyAudio\n",
      "  Using cached PyAudio-0.2.14-cp313-cp313-win_amd64.whl.metadata (2.7 kB)\n",
      "Using cached PyAudio-0.2.14-cp313-cp313-win_amd64.whl (173 kB)\n",
      "Installing collected packages: PyAudio\n",
      "Successfully installed PyAudio-0.2.14\n"
     ]
    }
   ],
   "source": [
    "!pip install PyAudio"
   ]
  },
  {
   "cell_type": "code",
   "execution_count": null,
   "id": "c4948807-d83c-4a8c-81ff-2586cdfab105",
   "metadata": {},
   "outputs": [],
   "source": []
  }
 ],
 "metadata": {
  "kernelspec": {
   "display_name": "Python 3 (ipykernel)",
   "language": "python",
   "name": "python3"
  },
  "language_info": {
   "codemirror_mode": {
    "name": "ipython",
    "version": 3
   },
   "file_extension": ".py",
   "mimetype": "text/x-python",
   "name": "python",
   "nbconvert_exporter": "python",
   "pygments_lexer": "ipython3",
   "version": "3.13.2"
  }
 },
 "nbformat": 4,
 "nbformat_minor": 5
}
